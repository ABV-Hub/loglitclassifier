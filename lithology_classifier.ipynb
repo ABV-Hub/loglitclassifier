{
 "cells": [
  {
   "cell_type": "markdown",
   "metadata": {},
   "source": [
    "# Recovering data and creating lithology classification model for Geophysical log data (SEG)\n",
    "\n",
    "*Marcos Conceição*\n",
    "\n",
    "In this notebook 4 classification models are trained to classify lithology from Geophysical log data. As one of the dataset columns has missing data, regression model is used for recovering it from other columns.\n",
    "\n",
    "Model used on regression step: linear regressor.\n",
    "\n",
    "Model tried in classification:\n",
    "  - a logistic regressor;\n",
    "  - a K-nearest neighbors classifier;\n",
    "  - a decision tree classifier; and\n",
    "  - a random forest classifier.\n",
    "\n",
    "## Aknowledgements\n",
    "\n",
    "- to **SEG** for making the [original dataset](https://github.com/seg/2016-ml-contest) publicly available; and\n",
    "- to **Alex Cerqueira** for both letting me know of and going through this dataset with the look of an experient machine-learning researcher. He has also edited the original dataset into the one I'm using here."
   ]
  },
  {
   "cell_type": "markdown",
   "metadata": {},
   "source": [
    "## Importing libraries"
   ]
  },
  {
   "cell_type": "code",
   "execution_count": 1,
   "metadata": {},
   "outputs": [],
   "source": [
    "import matplotlib.pyplot as plt\n",
    "import numpy as np\n",
    "import seaborn as sns\n",
    "import pandas as pd\n",
    "from sklearn.tree import DecisionTreeClassifier\n",
    "from sklearn.ensemble import RandomForestClassifier\n",
    "from sklearn.linear_model import LinearRegression, LogisticRegression\n",
    "from sklearn.neighbors import KNeighborsClassifier\n",
    "from sklearn.preprocessing import StandardScaler\n",
    "from sklearn.model_selection import train_test_split, StratifiedKFold\n",
    "from sklearn.metrics import classification_report, confusion_matrix, accuracy_score, \\\n",
    "                            mean_squared_error, plot_confusion_matrix\n",
    "from sklearn.preprocessing import LabelEncoder"
   ]
  },
  {
   "cell_type": "code",
   "execution_count": 2,
   "metadata": {},
   "outputs": [
    {
     "name": "stdout",
     "output_type": "stream",
     "text": [
      "Index(['Facies', 'Formation', 'Well Name', 'Depth', 'GR', 'ILD_log10',\n",
      "       'DeltaPHI', 'PHIND', 'PE', 'NM_M', 'RELPOS', 'Labels_char', 'PHID',\n",
      "       'PHIN', 'Formation_num', 'Formation_numsk'],\n",
      "      dtype='object')\n"
     ]
    },
    {
     "data": {
      "text/html": [
       "<div>\n",
       "<style scoped>\n",
       "    .dataframe tbody tr th:only-of-type {\n",
       "        vertical-align: middle;\n",
       "    }\n",
       "\n",
       "    .dataframe tbody tr th {\n",
       "        vertical-align: top;\n",
       "    }\n",
       "\n",
       "    .dataframe thead th {\n",
       "        text-align: right;\n",
       "    }\n",
       "</style>\n",
       "<table border=\"1\" class=\"dataframe\">\n",
       "  <thead>\n",
       "    <tr style=\"text-align: right;\">\n",
       "      <th></th>\n",
       "      <th>Facies</th>\n",
       "      <th>Formation</th>\n",
       "      <th>Well Name</th>\n",
       "      <th>Depth</th>\n",
       "      <th>GR</th>\n",
       "      <th>ILD_log10</th>\n",
       "      <th>DeltaPHI</th>\n",
       "      <th>PHIND</th>\n",
       "      <th>PE</th>\n",
       "      <th>NM_M</th>\n",
       "      <th>RELPOS</th>\n",
       "      <th>Labels_char</th>\n",
       "      <th>PHID</th>\n",
       "      <th>PHIN</th>\n",
       "      <th>Formation_num</th>\n",
       "      <th>Formation_numsk</th>\n",
       "    </tr>\n",
       "  </thead>\n",
       "  <tbody>\n",
       "    <tr>\n",
       "      <th>0</th>\n",
       "      <td>3</td>\n",
       "      <td>A1 SH</td>\n",
       "      <td>SHRIMPLIN</td>\n",
       "      <td>2793.0</td>\n",
       "      <td>77.45</td>\n",
       "      <td>0.664</td>\n",
       "      <td>9.9</td>\n",
       "      <td>11.915</td>\n",
       "      <td>4.6</td>\n",
       "      <td>1</td>\n",
       "      <td>1.000</td>\n",
       "      <td>Nonmarine fine siltstone</td>\n",
       "      <td>6.965</td>\n",
       "      <td>16.865</td>\n",
       "      <td>1.0</td>\n",
       "      <td>1</td>\n",
       "    </tr>\n",
       "    <tr>\n",
       "      <th>1</th>\n",
       "      <td>3</td>\n",
       "      <td>A1 SH</td>\n",
       "      <td>SHRIMPLIN</td>\n",
       "      <td>2793.5</td>\n",
       "      <td>78.26</td>\n",
       "      <td>0.661</td>\n",
       "      <td>14.2</td>\n",
       "      <td>12.565</td>\n",
       "      <td>4.1</td>\n",
       "      <td>1</td>\n",
       "      <td>0.979</td>\n",
       "      <td>Nonmarine fine siltstone</td>\n",
       "      <td>5.465</td>\n",
       "      <td>19.665</td>\n",
       "      <td>1.0</td>\n",
       "      <td>1</td>\n",
       "    </tr>\n",
       "    <tr>\n",
       "      <th>2</th>\n",
       "      <td>3</td>\n",
       "      <td>A1 SH</td>\n",
       "      <td>SHRIMPLIN</td>\n",
       "      <td>2794.0</td>\n",
       "      <td>79.05</td>\n",
       "      <td>0.658</td>\n",
       "      <td>14.8</td>\n",
       "      <td>13.050</td>\n",
       "      <td>3.6</td>\n",
       "      <td>1</td>\n",
       "      <td>0.957</td>\n",
       "      <td>Nonmarine fine siltstone</td>\n",
       "      <td>5.650</td>\n",
       "      <td>20.450</td>\n",
       "      <td>1.0</td>\n",
       "      <td>1</td>\n",
       "    </tr>\n",
       "    <tr>\n",
       "      <th>3</th>\n",
       "      <td>3</td>\n",
       "      <td>A1 SH</td>\n",
       "      <td>SHRIMPLIN</td>\n",
       "      <td>2794.5</td>\n",
       "      <td>86.10</td>\n",
       "      <td>0.655</td>\n",
       "      <td>13.9</td>\n",
       "      <td>13.115</td>\n",
       "      <td>3.5</td>\n",
       "      <td>1</td>\n",
       "      <td>0.936</td>\n",
       "      <td>Nonmarine fine siltstone</td>\n",
       "      <td>6.165</td>\n",
       "      <td>20.065</td>\n",
       "      <td>1.0</td>\n",
       "      <td>1</td>\n",
       "    </tr>\n",
       "    <tr>\n",
       "      <th>4</th>\n",
       "      <td>3</td>\n",
       "      <td>A1 SH</td>\n",
       "      <td>SHRIMPLIN</td>\n",
       "      <td>2795.0</td>\n",
       "      <td>74.58</td>\n",
       "      <td>0.647</td>\n",
       "      <td>13.5</td>\n",
       "      <td>13.300</td>\n",
       "      <td>3.4</td>\n",
       "      <td>1</td>\n",
       "      <td>0.915</td>\n",
       "      <td>Nonmarine fine siltstone</td>\n",
       "      <td>6.550</td>\n",
       "      <td>20.050</td>\n",
       "      <td>1.0</td>\n",
       "      <td>1</td>\n",
       "    </tr>\n",
       "  </tbody>\n",
       "</table>\n",
       "</div>"
      ],
      "text/plain": [
       "   Facies Formation  Well Name   Depth     GR  ILD_log10  DeltaPHI   PHIND  \\\n",
       "0       3     A1 SH  SHRIMPLIN  2793.0  77.45      0.664       9.9  11.915   \n",
       "1       3     A1 SH  SHRIMPLIN  2793.5  78.26      0.661      14.2  12.565   \n",
       "2       3     A1 SH  SHRIMPLIN  2794.0  79.05      0.658      14.8  13.050   \n",
       "3       3     A1 SH  SHRIMPLIN  2794.5  86.10      0.655      13.9  13.115   \n",
       "4       3     A1 SH  SHRIMPLIN  2795.0  74.58      0.647      13.5  13.300   \n",
       "\n",
       "    PE  NM_M  RELPOS               Labels_char   PHID    PHIN  Formation_num  \\\n",
       "0  4.6     1   1.000  Nonmarine fine siltstone  6.965  16.865            1.0   \n",
       "1  4.1     1   0.979  Nonmarine fine siltstone  5.465  19.665            1.0   \n",
       "2  3.6     1   0.957  Nonmarine fine siltstone  5.650  20.450            1.0   \n",
       "3  3.5     1   0.936  Nonmarine fine siltstone  6.165  20.065            1.0   \n",
       "4  3.4     1   0.915  Nonmarine fine siltstone  6.550  20.050            1.0   \n",
       "\n",
       "   Formation_numsk  \n",
       "0                1  \n",
       "1                1  \n",
       "2                1  \n",
       "3                1  \n",
       "4                1  "
      ]
     },
     "execution_count": 2,
     "metadata": {},
     "output_type": "execute_result"
    }
   ],
   "source": [
    "# path = 'facies_vectors.csv'\n",
    "path = 'facies_vector_alex.csv'\n",
    "df = pd.read_csv(path)\n",
    "print(df.columns)\n",
    "df.head()"
   ]
  },
  {
   "cell_type": "code",
   "execution_count": 3,
   "metadata": {},
   "outputs": [
    {
     "data": {
      "text/html": [
       "<div>\n",
       "<style scoped>\n",
       "    .dataframe tbody tr th:only-of-type {\n",
       "        vertical-align: middle;\n",
       "    }\n",
       "\n",
       "    .dataframe tbody tr th {\n",
       "        vertical-align: top;\n",
       "    }\n",
       "\n",
       "    .dataframe thead th {\n",
       "        text-align: right;\n",
       "    }\n",
       "</style>\n",
       "<table border=\"1\" class=\"dataframe\">\n",
       "  <thead>\n",
       "    <tr style=\"text-align: right;\">\n",
       "      <th></th>\n",
       "      <th>Facies</th>\n",
       "      <th>Depth</th>\n",
       "      <th>GR</th>\n",
       "      <th>ILD_log10</th>\n",
       "      <th>DeltaPHI</th>\n",
       "      <th>PHIND</th>\n",
       "      <th>PE</th>\n",
       "      <th>NM_M</th>\n",
       "      <th>RELPOS</th>\n",
       "      <th>PHID</th>\n",
       "      <th>PHIN</th>\n",
       "      <th>Formation_num</th>\n",
       "      <th>Formation_numsk</th>\n",
       "    </tr>\n",
       "  </thead>\n",
       "  <tbody>\n",
       "    <tr>\n",
       "      <th>count</th>\n",
       "      <td>4149.000000</td>\n",
       "      <td>4149.000000</td>\n",
       "      <td>4149.000000</td>\n",
       "      <td>4149.000000</td>\n",
       "      <td>4149.000000</td>\n",
       "      <td>4149.000000</td>\n",
       "      <td>3232.000000</td>\n",
       "      <td>4149.000000</td>\n",
       "      <td>4149.000000</td>\n",
       "      <td>4149.000000</td>\n",
       "      <td>4149.000000</td>\n",
       "      <td>4149.000000</td>\n",
       "      <td>4149.000000</td>\n",
       "    </tr>\n",
       "    <tr>\n",
       "      <th>mean</th>\n",
       "      <td>4.503254</td>\n",
       "      <td>2906.867438</td>\n",
       "      <td>64.933985</td>\n",
       "      <td>0.659566</td>\n",
       "      <td>4.402484</td>\n",
       "      <td>13.201066</td>\n",
       "      <td>3.725014</td>\n",
       "      <td>1.518438</td>\n",
       "      <td>0.521852</td>\n",
       "      <td>10.999824</td>\n",
       "      <td>15.402308</td>\n",
       "      <td>6.434322</td>\n",
       "      <td>6.434322</td>\n",
       "    </tr>\n",
       "    <tr>\n",
       "      <th>std</th>\n",
       "      <td>2.474324</td>\n",
       "      <td>133.300164</td>\n",
       "      <td>30.302530</td>\n",
       "      <td>0.252703</td>\n",
       "      <td>5.274947</td>\n",
       "      <td>7.132846</td>\n",
       "      <td>0.896152</td>\n",
       "      <td>0.499720</td>\n",
       "      <td>0.286644</td>\n",
       "      <td>8.059673</td>\n",
       "      <td>7.121038</td>\n",
       "      <td>4.722771</td>\n",
       "      <td>4.722771</td>\n",
       "    </tr>\n",
       "    <tr>\n",
       "      <th>min</th>\n",
       "      <td>1.000000</td>\n",
       "      <td>2573.500000</td>\n",
       "      <td>10.149000</td>\n",
       "      <td>-0.025949</td>\n",
       "      <td>-21.832000</td>\n",
       "      <td>0.550000</td>\n",
       "      <td>0.200000</td>\n",
       "      <td>1.000000</td>\n",
       "      <td>0.000000</td>\n",
       "      <td>-5.000000</td>\n",
       "      <td>2.090000</td>\n",
       "      <td>0.000000</td>\n",
       "      <td>0.000000</td>\n",
       "    </tr>\n",
       "    <tr>\n",
       "      <th>25%</th>\n",
       "      <td>2.000000</td>\n",
       "      <td>2821.500000</td>\n",
       "      <td>44.730000</td>\n",
       "      <td>0.498000</td>\n",
       "      <td>1.600000</td>\n",
       "      <td>8.500000</td>\n",
       "      <td>3.100000</td>\n",
       "      <td>1.000000</td>\n",
       "      <td>0.277000</td>\n",
       "      <td>6.259000</td>\n",
       "      <td>10.025000</td>\n",
       "      <td>2.000000</td>\n",
       "      <td>2.000000</td>\n",
       "    </tr>\n",
       "    <tr>\n",
       "      <th>50%</th>\n",
       "      <td>4.000000</td>\n",
       "      <td>2932.500000</td>\n",
       "      <td>64.990000</td>\n",
       "      <td>0.639000</td>\n",
       "      <td>4.300000</td>\n",
       "      <td>12.020000</td>\n",
       "      <td>3.551500</td>\n",
       "      <td>2.000000</td>\n",
       "      <td>0.528000</td>\n",
       "      <td>8.900000</td>\n",
       "      <td>14.842000</td>\n",
       "      <td>7.000000</td>\n",
       "      <td>7.000000</td>\n",
       "    </tr>\n",
       "    <tr>\n",
       "      <th>75%</th>\n",
       "      <td>6.000000</td>\n",
       "      <td>3007.000000</td>\n",
       "      <td>79.438000</td>\n",
       "      <td>0.822000</td>\n",
       "      <td>7.500000</td>\n",
       "      <td>16.050000</td>\n",
       "      <td>4.300000</td>\n",
       "      <td>2.000000</td>\n",
       "      <td>0.769000</td>\n",
       "      <td>13.165000</td>\n",
       "      <td>19.385000</td>\n",
       "      <td>12.000000</td>\n",
       "      <td>12.000000</td>\n",
       "    </tr>\n",
       "    <tr>\n",
       "      <th>max</th>\n",
       "      <td>9.000000</td>\n",
       "      <td>3138.000000</td>\n",
       "      <td>361.150000</td>\n",
       "      <td>1.800000</td>\n",
       "      <td>19.312000</td>\n",
       "      <td>84.400000</td>\n",
       "      <td>8.094000</td>\n",
       "      <td>2.000000</td>\n",
       "      <td>1.000000</td>\n",
       "      <td>83.500000</td>\n",
       "      <td>85.400000</td>\n",
       "      <td>13.000000</td>\n",
       "      <td>13.000000</td>\n",
       "    </tr>\n",
       "  </tbody>\n",
       "</table>\n",
       "</div>"
      ],
      "text/plain": [
       "            Facies        Depth           GR    ILD_log10     DeltaPHI  \\\n",
       "count  4149.000000  4149.000000  4149.000000  4149.000000  4149.000000   \n",
       "mean      4.503254  2906.867438    64.933985     0.659566     4.402484   \n",
       "std       2.474324   133.300164    30.302530     0.252703     5.274947   \n",
       "min       1.000000  2573.500000    10.149000    -0.025949   -21.832000   \n",
       "25%       2.000000  2821.500000    44.730000     0.498000     1.600000   \n",
       "50%       4.000000  2932.500000    64.990000     0.639000     4.300000   \n",
       "75%       6.000000  3007.000000    79.438000     0.822000     7.500000   \n",
       "max       9.000000  3138.000000   361.150000     1.800000    19.312000   \n",
       "\n",
       "             PHIND           PE         NM_M       RELPOS         PHID  \\\n",
       "count  4149.000000  3232.000000  4149.000000  4149.000000  4149.000000   \n",
       "mean     13.201066     3.725014     1.518438     0.521852    10.999824   \n",
       "std       7.132846     0.896152     0.499720     0.286644     8.059673   \n",
       "min       0.550000     0.200000     1.000000     0.000000    -5.000000   \n",
       "25%       8.500000     3.100000     1.000000     0.277000     6.259000   \n",
       "50%      12.020000     3.551500     2.000000     0.528000     8.900000   \n",
       "75%      16.050000     4.300000     2.000000     0.769000    13.165000   \n",
       "max      84.400000     8.094000     2.000000     1.000000    83.500000   \n",
       "\n",
       "              PHIN  Formation_num  Formation_numsk  \n",
       "count  4149.000000    4149.000000      4149.000000  \n",
       "mean     15.402308       6.434322         6.434322  \n",
       "std       7.121038       4.722771         4.722771  \n",
       "min       2.090000       0.000000         0.000000  \n",
       "25%      10.025000       2.000000         2.000000  \n",
       "50%      14.842000       7.000000         7.000000  \n",
       "75%      19.385000      12.000000        12.000000  \n",
       "max      85.400000      13.000000        13.000000  "
      ]
     },
     "execution_count": 3,
     "metadata": {},
     "output_type": "execute_result"
    }
   ],
   "source": [
    "df.describe()"
   ]
  },
  {
   "cell_type": "code",
   "execution_count": 4,
   "metadata": {},
   "outputs": [
    {
     "data": {
      "text/html": [
       "<div>\n",
       "<style scoped>\n",
       "    .dataframe tbody tr th:only-of-type {\n",
       "        vertical-align: middle;\n",
       "    }\n",
       "\n",
       "    .dataframe tbody tr th {\n",
       "        vertical-align: top;\n",
       "    }\n",
       "\n",
       "    .dataframe thead th {\n",
       "        text-align: right;\n",
       "    }\n",
       "</style>\n",
       "<table border=\"1\" class=\"dataframe\">\n",
       "  <thead>\n",
       "    <tr style=\"text-align: right;\">\n",
       "      <th></th>\n",
       "      <th>Formation_num</th>\n",
       "      <th>GR</th>\n",
       "      <th>ILD_log10</th>\n",
       "      <th>DeltaPHI</th>\n",
       "      <th>PHIND</th>\n",
       "      <th>PE</th>\n",
       "      <th>NM_M</th>\n",
       "      <th>RELPOS</th>\n",
       "      <th>PHID</th>\n",
       "      <th>PHIN</th>\n",
       "    </tr>\n",
       "  </thead>\n",
       "  <tbody>\n",
       "    <tr>\n",
       "      <th>0</th>\n",
       "      <td>1.0</td>\n",
       "      <td>77.45</td>\n",
       "      <td>0.664</td>\n",
       "      <td>9.9</td>\n",
       "      <td>11.915</td>\n",
       "      <td>4.6</td>\n",
       "      <td>1</td>\n",
       "      <td>1.000</td>\n",
       "      <td>6.965</td>\n",
       "      <td>16.865</td>\n",
       "    </tr>\n",
       "    <tr>\n",
       "      <th>1</th>\n",
       "      <td>1.0</td>\n",
       "      <td>78.26</td>\n",
       "      <td>0.661</td>\n",
       "      <td>14.2</td>\n",
       "      <td>12.565</td>\n",
       "      <td>4.1</td>\n",
       "      <td>1</td>\n",
       "      <td>0.979</td>\n",
       "      <td>5.465</td>\n",
       "      <td>19.665</td>\n",
       "    </tr>\n",
       "    <tr>\n",
       "      <th>2</th>\n",
       "      <td>1.0</td>\n",
       "      <td>79.05</td>\n",
       "      <td>0.658</td>\n",
       "      <td>14.8</td>\n",
       "      <td>13.050</td>\n",
       "      <td>3.6</td>\n",
       "      <td>1</td>\n",
       "      <td>0.957</td>\n",
       "      <td>5.650</td>\n",
       "      <td>20.450</td>\n",
       "    </tr>\n",
       "    <tr>\n",
       "      <th>3</th>\n",
       "      <td>1.0</td>\n",
       "      <td>86.10</td>\n",
       "      <td>0.655</td>\n",
       "      <td>13.9</td>\n",
       "      <td>13.115</td>\n",
       "      <td>3.5</td>\n",
       "      <td>1</td>\n",
       "      <td>0.936</td>\n",
       "      <td>6.165</td>\n",
       "      <td>20.065</td>\n",
       "    </tr>\n",
       "    <tr>\n",
       "      <th>4</th>\n",
       "      <td>1.0</td>\n",
       "      <td>74.58</td>\n",
       "      <td>0.647</td>\n",
       "      <td>13.5</td>\n",
       "      <td>13.300</td>\n",
       "      <td>3.4</td>\n",
       "      <td>1</td>\n",
       "      <td>0.915</td>\n",
       "      <td>6.550</td>\n",
       "      <td>20.050</td>\n",
       "    </tr>\n",
       "  </tbody>\n",
       "</table>\n",
       "</div>"
      ],
      "text/plain": [
       "   Formation_num     GR  ILD_log10  DeltaPHI   PHIND   PE  NM_M  RELPOS  \\\n",
       "0            1.0  77.45      0.664       9.9  11.915  4.6     1   1.000   \n",
       "1            1.0  78.26      0.661      14.2  12.565  4.1     1   0.979   \n",
       "2            1.0  79.05      0.658      14.8  13.050  3.6     1   0.957   \n",
       "3            1.0  86.10      0.655      13.9  13.115  3.5     1   0.936   \n",
       "4            1.0  74.58      0.647      13.5  13.300  3.4     1   0.915   \n",
       "\n",
       "    PHID    PHIN  \n",
       "0  6.965  16.865  \n",
       "1  5.465  19.665  \n",
       "2  5.650  20.450  \n",
       "3  6.165  20.065  \n",
       "4  6.550  20.050  "
      ]
     },
     "execution_count": 4,
     "metadata": {},
     "output_type": "execute_result"
    }
   ],
   "source": [
    "cols = ['Formation_num', 'GR', 'ILD_log10', 'DeltaPHI', 'PHIND', 'PE',\n",
    "        'NM_M', 'RELPOS', 'PHID', 'PHIN']\n",
    "\n",
    "numeric = df[cols]\n",
    "numeric.head()"
   ]
  },
  {
   "cell_type": "code",
   "execution_count": 5,
   "metadata": {},
   "outputs": [
    {
     "data": {
      "text/plain": [
       "[<matplotlib.lines.Line2D at 0x7f9e36666f50>]"
      ]
     },
     "execution_count": 5,
     "metadata": {},
     "output_type": "execute_result"
    },
    {
     "data": {
      "image/png": "[encoded data removed]",
      "text/plain": [
       "<Figure size 432x288 with 1 Axes>"
      ]
     },
     "metadata": {
      "needs_background": "light"
     },
     "output_type": "display_data"
    }
   ],
   "source": [
    "plt.title('PE')\n",
    "plt.xlabel('Entry')\n",
    "plt.plot(df.index, df.PE, c='black')"
   ]
  },
  {
   "cell_type": "code",
   "execution_count": 6,
   "metadata": {},
   "outputs": [],
   "source": [
    "le = LabelEncoder()\n",
    "y = le.fit_transform(df['Labels_char'])"
   ]
  },
  {
   "cell_type": "markdown",
   "metadata": {},
   "source": [
    "## Looking for missing data"
   ]
  },
  {
   "cell_type": "code",
   "execution_count": 7,
   "metadata": {},
   "outputs": [
    {
     "data": {
      "text/plain": [
       "Index(['PE'], dtype='object')"
      ]
     },
     "execution_count": 7,
     "metadata": {},
     "output_type": "execute_result"
    }
   ],
   "source": [
    "# does any column has missing entries?\n",
    "df.columns[df.isnull().any()]"
   ]
  },
  {
   "cell_type": "code",
   "execution_count": 8,
   "metadata": {},
   "outputs": [
    {
     "name": "stdout",
     "output_type": "stream",
     "text": [
      "917 from 4149 or 22% of the data.\n"
     ]
    }
   ],
   "source": [
    "# how many entries?\n",
    "n = np.sum(df['PE'].isnull())\n",
    "total = df.shape[0]\n",
    "print(f'{n} from {total} or {n/total:.0%} of the data.')"
   ]
  },
  {
   "cell_type": "markdown",
   "metadata": {},
   "source": [
    "Just part of the column is missing, so we will recover the column with regression."
   ]
  },
  {
   "cell_type": "code",
   "execution_count": 9,
   "metadata": {},
   "outputs": [
    {
     "data": {
      "text/plain": [
       "Index([], dtype='object')"
      ]
     },
     "execution_count": 9,
     "metadata": {},
     "output_type": "execute_result"
    }
   ],
   "source": [
    "# does any column has infinite entries?\n",
    "df.columns[(~np.isfinite(df.isnull())).any()]"
   ]
  },
  {
   "cell_type": "markdown",
   "metadata": {},
   "source": [
    "No."
   ]
  },
  {
   "cell_type": "markdown",
   "metadata": {},
   "source": [
    "## Recovering missing PE"
   ]
  },
  {
   "cell_type": "code",
   "execution_count": 10,
   "metadata": {},
   "outputs": [],
   "source": [
    "# saving old data for later comparison:\n",
    "oldPE = numeric['PE'].copy()"
   ]
  },
  {
   "cell_type": "code",
   "execution_count": 11,
   "metadata": {},
   "outputs": [],
   "source": [
    "non_PE_cols = [col\n",
    "               for col in numeric.columns\n",
    "               if col != 'PE']\n",
    "\n",
    "numeric_w_PE = numeric[~numeric['PE'].isnull()]\n",
    "\n",
    "XPE = numeric_w_PE[non_PE_cols]\n",
    "yPE = numeric_w_PE['PE']"
   ]
  },
  {
   "cell_type": "code",
   "execution_count": 12,
   "metadata": {},
   "outputs": [],
   "source": [
    "# scaling data for linear regression\n",
    "scaler = StandardScaler()\n",
    "XPE_sc = scaler.fit_transform(XPE)"
   ]
  },
  {
   "cell_type": "code",
   "execution_count": 13,
   "metadata": {},
   "outputs": [],
   "source": [
    "# preparing holdout cross-validation\n",
    "XPE_sc_train, XPE_sc_test, yPE_train, yPE_test = \\\n",
    "    train_test_split(XPE_sc, yPE, test_size=0.25)"
   ]
  },
  {
   "cell_type": "code",
   "execution_count": 14,
   "metadata": {},
   "outputs": [
    {
     "name": "stdout",
     "output_type": "stream",
     "text": [
      "Model MSE = 0.37\n"
     ]
    }
   ],
   "source": [
    "# training linear regressor\n",
    "lr = LinearRegression()\n",
    "lr.fit(XPE_sc_train, yPE_train)\n",
    "\n",
    "yPE_test_pred = lr.predict(XPE_sc_test)\n",
    "\n",
    "print(f\"Model MSE = {mean_squared_error(yPE_test, yPE_test_pred):.2g}\")"
   ]
  },
  {
   "cell_type": "code",
   "execution_count": 15,
   "metadata": {},
   "outputs": [
    {
     "name": "stderr",
     "output_type": "stream",
     "text": [
      "/home/marcosrdac/.local/share/python_envs/m/lib/python3.7/site-packages/pandas/core/indexing.py:966: SettingWithCopyWarning: \n",
      "A value is trying to be set on a copy of a slice from a DataFrame.\n",
      "Try using .loc[row_indexer,col_indexer] = value instead\n",
      "\n",
      "See the caveats in the documentation: https://pandas.pydata.org/pandas-docs/stable/user_guide/indexing.html#returning-a-view-versus-a-copy\n",
      "  self.obj[item] = s\n"
     ]
    }
   ],
   "source": [
    "# recovering PE data\n",
    "\n",
    "numeric_wo_PE = numeric[numeric['PE'].isnull()]\n",
    "numeric_wo_PE_idx = numeric_wo_PE.index\n",
    "\n",
    "XPE = numeric_wo_PE[non_PE_cols]\n",
    "XPE_sc = scaler.transform(XPE)\n",
    "numeric.loc[numeric_wo_PE_idx, 'PE'] = lr.predict(XPE_sc)"
   ]
  },
  {
   "cell_type": "code",
   "execution_count": 16,
   "metadata": {},
   "outputs": [
    {
     "data": {
      "text/plain": [
       "<matplotlib.legend.Legend at 0x7f9e3412ac90>"
      ]
     },
     "execution_count": 16,
     "metadata": {},
     "output_type": "execute_result"
    },
    {
     "data": {
      "image/png": "[encoded data removed]",
      "text/plain": [
       "<Figure size 432x288 with 1 Axes>"
      ]
     },
     "metadata": {
      "needs_background": "light"
     },
     "output_type": "display_data"
    }
   ],
   "source": [
    "plt.title('PE')\n",
    "plt.xlabel('Entry')\n",
    "plt.plot(df.index, numeric['PE'], c='orange', label='Recovered')\n",
    "plt.plot(df.index, oldPE, c='black', label='True')\n",
    "plt.legend()"
   ]
  },
  {
   "cell_type": "markdown",
   "metadata": {},
   "source": [
    "## Training lithology classifier"
   ]
  },
  {
   "cell_type": "code",
   "execution_count": 17,
   "metadata": {},
   "outputs": [
    {
     "data": {
      "text/html": [
       "<div>\n",
       "<style scoped>\n",
       "    .dataframe tbody tr th:only-of-type {\n",
       "        vertical-align: middle;\n",
       "    }\n",
       "\n",
       "    .dataframe tbody tr th {\n",
       "        vertical-align: top;\n",
       "    }\n",
       "\n",
       "    .dataframe thead th {\n",
       "        text-align: right;\n",
       "    }\n",
       "</style>\n",
       "<table border=\"1\" class=\"dataframe\">\n",
       "  <thead>\n",
       "    <tr style=\"text-align: right;\">\n",
       "      <th></th>\n",
       "      <th>Formation_num</th>\n",
       "      <th>GR</th>\n",
       "      <th>ILD_log10</th>\n",
       "      <th>DeltaPHI</th>\n",
       "      <th>PHIND</th>\n",
       "      <th>PE</th>\n",
       "      <th>NM_M</th>\n",
       "      <th>RELPOS</th>\n",
       "      <th>PHID</th>\n",
       "      <th>PHIN</th>\n",
       "    </tr>\n",
       "  </thead>\n",
       "  <tbody>\n",
       "    <tr>\n",
       "      <th>0</th>\n",
       "      <td>1.0</td>\n",
       "      <td>77.45</td>\n",
       "      <td>0.664</td>\n",
       "      <td>9.9</td>\n",
       "      <td>11.915</td>\n",
       "      <td>4.6</td>\n",
       "      <td>1</td>\n",
       "      <td>1.000</td>\n",
       "      <td>6.965</td>\n",
       "      <td>16.865</td>\n",
       "    </tr>\n",
       "    <tr>\n",
       "      <th>1</th>\n",
       "      <td>1.0</td>\n",
       "      <td>78.26</td>\n",
       "      <td>0.661</td>\n",
       "      <td>14.2</td>\n",
       "      <td>12.565</td>\n",
       "      <td>4.1</td>\n",
       "      <td>1</td>\n",
       "      <td>0.979</td>\n",
       "      <td>5.465</td>\n",
       "      <td>19.665</td>\n",
       "    </tr>\n",
       "    <tr>\n",
       "      <th>2</th>\n",
       "      <td>1.0</td>\n",
       "      <td>79.05</td>\n",
       "      <td>0.658</td>\n",
       "      <td>14.8</td>\n",
       "      <td>13.050</td>\n",
       "      <td>3.6</td>\n",
       "      <td>1</td>\n",
       "      <td>0.957</td>\n",
       "      <td>5.650</td>\n",
       "      <td>20.450</td>\n",
       "    </tr>\n",
       "    <tr>\n",
       "      <th>3</th>\n",
       "      <td>1.0</td>\n",
       "      <td>86.10</td>\n",
       "      <td>0.655</td>\n",
       "      <td>13.9</td>\n",
       "      <td>13.115</td>\n",
       "      <td>3.5</td>\n",
       "      <td>1</td>\n",
       "      <td>0.936</td>\n",
       "      <td>6.165</td>\n",
       "      <td>20.065</td>\n",
       "    </tr>\n",
       "    <tr>\n",
       "      <th>4</th>\n",
       "      <td>1.0</td>\n",
       "      <td>74.58</td>\n",
       "      <td>0.647</td>\n",
       "      <td>13.5</td>\n",
       "      <td>13.300</td>\n",
       "      <td>3.4</td>\n",
       "      <td>1</td>\n",
       "      <td>0.915</td>\n",
       "      <td>6.550</td>\n",
       "      <td>20.050</td>\n",
       "    </tr>\n",
       "  </tbody>\n",
       "</table>\n",
       "</div>"
      ],
      "text/plain": [
       "   Formation_num     GR  ILD_log10  DeltaPHI   PHIND   PE  NM_M  RELPOS  \\\n",
       "0            1.0  77.45      0.664       9.9  11.915  4.6     1   1.000   \n",
       "1            1.0  78.26      0.661      14.2  12.565  4.1     1   0.979   \n",
       "2            1.0  79.05      0.658      14.8  13.050  3.6     1   0.957   \n",
       "3            1.0  86.10      0.655      13.9  13.115  3.5     1   0.936   \n",
       "4            1.0  74.58      0.647      13.5  13.300  3.4     1   0.915   \n",
       "\n",
       "    PHID    PHIN  \n",
       "0  6.965  16.865  \n",
       "1  5.465  19.665  \n",
       "2  5.650  20.450  \n",
       "3  6.165  20.065  \n",
       "4  6.550  20.050  "
      ]
     },
     "execution_count": 17,
     "metadata": {},
     "output_type": "execute_result"
    }
   ],
   "source": [
    "# numeric columns are going to be features\n",
    "X = numeric\n",
    "X.head()"
   ]
  },
  {
   "cell_type": "code",
   "execution_count": 18,
   "metadata": {},
   "outputs": [
    {
     "data": {
      "text/plain": [
       "0       Nonmarine fine siltstone\n",
       "1       Nonmarine fine siltstone\n",
       "2       Nonmarine fine siltstone\n",
       "3       Nonmarine fine siltstone\n",
       "4       Nonmarine fine siltstone\n",
       "                  ...           \n",
       "4144        Mudstone (limestone)\n",
       "4145        Mudstone (limestone)\n",
       "4146        Mudstone (limestone)\n",
       "4147        Mudstone (limestone)\n",
       "4148        Mudstone (limestone)\n",
       "Name: Labels_char, Length: 4149, dtype: object"
      ]
     },
     "execution_count": 18,
     "metadata": {},
     "output_type": "execute_result"
    }
   ],
   "source": [
    "# lithology will be labels\n",
    "target = df['Labels_char']\n",
    "target"
   ]
  },
  {
   "cell_type": "code",
   "execution_count": 19,
   "metadata": {},
   "outputs": [
    {
     "name": "stdout",
     "output_type": "stream",
     "text": [
      "y = [4 4 4 ... 2 2 2]\n",
      "\n",
      "  where:\n",
      "  0 := Dolomite\n",
      "  1 := Marine siltstone and shale\n",
      "  2 := Mudstone (limestone)\n",
      "  3 := Nonmarine coarse siltstone\n",
      "  4 := Nonmarine fine siltstone\n",
      "  5 := Nonmarine sandstone\n",
      "  6 := Packstone-grainstone (limestone)\n",
      "  7 := Phylloid-algal bafflestone (limestone)\n",
      "  8 := Wackestone (limestone)\n"
     ]
    }
   ],
   "source": [
    "# encoding categorical features into integers\n",
    "le = LabelEncoder()\n",
    "y = le.fit_transform(target)\n",
    "print(\"y =\", y, end=2*'\\n')\n",
    "print(\"  where:\")\n",
    "for i, c in enumerate(le.classes_):\n",
    "    print(f\"  {i} := {c}\")"
   ]
  },
  {
   "cell_type": "markdown",
   "metadata": {},
   "source": [
    "### Defining a Stratified K-Fold cross-validation function"
   ]
  },
  {
   "cell_type": "code",
   "execution_count": 20,
   "metadata": {},
   "outputs": [],
   "source": [
    "def stratifiedkfold(model, X, y, n_splits=3, scale=True, metric=accuracy_score, loss_metric=False):\n",
    "    kf = StratifiedKFold(n_splits=n_splits, shuffle=True)\n",
    "    kf.get_n_splits(X, y)\n",
    "\n",
    "    scaler = None\n",
    "    X_set = y_set = (None, None)\n",
    "    best_model = best_model_scaler = None\n",
    "    mean_train_metric = mean_test_metric = 0.\n",
    "    best_train_metric = best_test_metric = 0.\n",
    "    \n",
    "    for train_idx, test_idx in kf.split(X, y):\n",
    "        try:\n",
    "            X_train, X_test = X.iloc[train_idx], X.iloc[test_idx]\n",
    "        except AttributeError:\n",
    "            X_train, X_test = X[train_idx,:], X[test_idx,:]\n",
    "        try:\n",
    "            y_train, y_test = y.iloc[train_idx], y.iloc[test_idx]\n",
    "        except AttributeError:\n",
    "            y_train, y_test = y[train_idx], y[test_idx]\n",
    "        # scaling data\n",
    "        if scale:\n",
    "            scaler = StandardScaler()\n",
    "            scaler.fit(X_train)\n",
    "            _X_train = scaler.transform(X_train)\n",
    "            _X_test = scaler.transform(X_test)\n",
    "        else:\n",
    "            _X_train = X_train\n",
    "            _X_test = X_test\n",
    "        # training model\n",
    "        model.fit(_X_train, y_train)\n",
    "        # cross-validation\n",
    "        y_train_pred = model.predict(_X_train)\n",
    "        y_test_pred = model.predict(_X_test)\n",
    "        train_metric = metric(y_train, y_train_pred)\n",
    "        test_metric = metric(y_test, y_test_pred)\n",
    "        # choosing best model\n",
    "        if loss_metric:\n",
    "            better = test_metric<best_test_metric and train_metric<best_train_metric\n",
    "        else:\n",
    "            better = test_metric>best_test_metric and train_metric>best_train_metric\n",
    "        if better:\n",
    "            best_model = model\n",
    "            best_model_scaler = scaler\n",
    "            best_train_metric, best_test_metric = train_metric, test_metric\n",
    "            X_set = X_train, X_test\n",
    "            y_set = y_train, y_test\n",
    "        mean_train_metric += train_metric\n",
    "        mean_test_metric += test_metric\n",
    "        \n",
    "    mean_train_metric /= n_splits\n",
    "    mean_test_metric /= n_splits\n",
    "\n",
    "    metrics = pd.DataFrame()\n",
    "    metrics.loc['train', metric.__name__] = mean_train_metric\n",
    "    metrics.loc['test', metric.__name__] = mean_test_metric\n",
    "    return metrics, best_model, best_model_scaler, X_set, y_set\n",
    "\n",
    "def skfshow(model, X, y, **kwargs):\n",
    "    metric, model, scaler, X_set, y_set = stratifiedkfold(model, X, y, **kwargs)\n",
    "    if scaler is not None:\n",
    "        _X = scaler.transform(X_set[0])\n",
    "    else:\n",
    "        _X = X_set[0]\n",
    "    _y = y_set[0]\n",
    "    plot_confusion_matrix(model, _X, _y, normalize='pred', values_format=\".0%\")\n",
    "    print(classification_report(_y,\n",
    "                                model.predict(_X)))\n",
    "    return metric, model, scaler, X_set, y_set"
   ]
  },
  {
   "cell_type": "markdown",
   "metadata": {},
   "source": [
    "## Classification Models"
   ]
  },
  {
   "cell_type": "markdown",
   "metadata": {},
   "source": [
    "### Logistic regression"
   ]
  },
  {
   "cell_type": "code",
   "execution_count": 21,
   "metadata": {},
   "outputs": [
    {
     "name": "stdout",
     "output_type": "stream",
     "text": [
      "              precision    recall  f1-score   support\n",
      "\n",
      "           0       0.58      0.43      0.49        94\n",
      "           1       0.49      0.52      0.50       180\n",
      "           2       0.35      0.21      0.26       198\n",
      "           3       0.61      0.75      0.68       626\n",
      "           4       0.70      0.58      0.64       520\n",
      "           5       0.70      0.54      0.61       179\n",
      "           6       0.53      0.61      0.57       458\n",
      "           7       0.76      0.53      0.62       123\n",
      "           8       0.47      0.52      0.49       388\n",
      "\n",
      "    accuracy                           0.58      2766\n",
      "   macro avg       0.58      0.52      0.54      2766\n",
      "weighted avg       0.58      0.58      0.57      2766\n",
      "\n"
     ]
    },
    {
     "data": {
      "text/html": [
       "<div>\n",
       "<style scoped>\n",
       "    .dataframe tbody tr th:only-of-type {\n",
       "        vertical-align: middle;\n",
       "    }\n",
       "\n",
       "    .dataframe tbody tr th {\n",
       "        vertical-align: top;\n",
       "    }\n",
       "\n",
       "    .dataframe thead th {\n",
       "        text-align: right;\n",
       "    }\n",
       "</style>\n",
       "<table border=\"1\" class=\"dataframe\">\n",
       "  <thead>\n",
       "    <tr style=\"text-align: right;\">\n",
       "      <th></th>\n",
       "      <th>accuracy_score</th>\n",
       "    </tr>\n",
       "  </thead>\n",
       "  <tbody>\n",
       "    <tr>\n",
       "      <th>train</th>\n",
       "      <td>0.579658</td>\n",
       "    </tr>\n",
       "    <tr>\n",
       "      <th>test</th>\n",
       "      <td>0.565678</td>\n",
       "    </tr>\n",
       "  </tbody>\n",
       "</table>\n",
       "</div>"
      ],
      "text/plain": [
       "       accuracy_score\n",
       "train        0.579658\n",
       "test         0.565678"
      ]
     },
     "execution_count": 21,
     "metadata": {},
     "output_type": "execute_result"
    },
    {
     "data": {
      "image/png": "[encoded data removed]",
      "text/plain": [
       "<Figure size 432x288 with 2 Axes>"
      ]
     },
     "metadata": {
      "needs_background": "light"
     },
     "output_type": "display_data"
    }
   ],
   "source": [
    "lr = LogisticRegression(max_iter=1000)\n",
    "metric, model, scaler, X_set, y_set = skfshow(lr, X, y)\n",
    "metric"
   ]
  },
  {
   "cell_type": "markdown",
   "metadata": {},
   "source": [
    "### K-Neigbors classifier"
   ]
  },
  {
   "cell_type": "code",
   "execution_count": 22,
   "metadata": {},
   "outputs": [
    {
     "name": "stdout",
     "output_type": "stream",
     "text": [
      "              precision    recall  f1-score   support\n",
      "\n",
      "           0       0.66      0.76      0.70        94\n",
      "           1       0.66      0.82      0.73       180\n",
      "           2       0.64      0.61      0.62       198\n",
      "           3       0.75      0.82      0.78       626\n",
      "           4       0.79      0.75      0.77       520\n",
      "           5       0.82      0.79      0.80       179\n",
      "           6       0.75      0.75      0.75       458\n",
      "           7       0.86      0.83      0.84       123\n",
      "           8       0.74      0.61      0.67       388\n",
      "\n",
      "    accuracy                           0.75      2766\n",
      "   macro avg       0.74      0.75      0.74      2766\n",
      "weighted avg       0.75      0.75      0.74      2766\n",
      "\n"
     ]
    },
    {
     "data": {
      "text/html": [
       "<div>\n",
       "<style scoped>\n",
       "    .dataframe tbody tr th:only-of-type {\n",
       "        vertical-align: middle;\n",
       "    }\n",
       "\n",
       "    .dataframe tbody tr th {\n",
       "        vertical-align: top;\n",
       "    }\n",
       "\n",
       "    .dataframe thead th {\n",
       "        text-align: right;\n",
       "    }\n",
       "</style>\n",
       "<table border=\"1\" class=\"dataframe\">\n",
       "  <thead>\n",
       "    <tr style=\"text-align: right;\">\n",
       "      <th></th>\n",
       "      <th>accuracy_score</th>\n",
       "    </tr>\n",
       "  </thead>\n",
       "  <tbody>\n",
       "    <tr>\n",
       "      <th>train</th>\n",
       "      <td>0.809954</td>\n",
       "    </tr>\n",
       "    <tr>\n",
       "      <th>test</th>\n",
       "      <td>0.695348</td>\n",
       "    </tr>\n",
       "  </tbody>\n",
       "</table>\n",
       "</div>"
      ],
      "text/plain": [
       "       accuracy_score\n",
       "train        0.809954\n",
       "test         0.695348"
      ]
     },
     "execution_count": 22,
     "metadata": {},
     "output_type": "execute_result"
    },
    {
     "data": {
      "image/png": "[encoded data removed]",
      "text/plain": [
       "<Figure size 432x288 with 2 Axes>"
      ]
     },
     "metadata": {
      "needs_background": "light"
     },
     "output_type": "display_data"
    }
   ],
   "source": [
    "knn = KNeighborsClassifier()\n",
    "metric, model, scaler, X_set, y_set = skfshow(knn, X, y)\n",
    "metric"
   ]
  },
  {
   "cell_type": "markdown",
   "metadata": {},
   "source": [
    "### Decision tree classifier"
   ]
  },
  {
   "cell_type": "code",
   "execution_count": 23,
   "metadata": {},
   "outputs": [
    {
     "name": "stdout",
     "output_type": "stream",
     "text": [
      "              precision    recall  f1-score   support\n",
      "\n",
      "           0       1.00      0.98      0.99        94\n",
      "           1       0.99      1.00      0.99       181\n",
      "           2       1.00      0.99      1.00       197\n",
      "           3       1.00      1.00      1.00       627\n",
      "           4       1.00      1.00      1.00       520\n",
      "           5       1.00      1.00      1.00       178\n",
      "           6       1.00      1.00      1.00       457\n",
      "           7       0.98      1.00      0.99       124\n",
      "           8       1.00      1.00      1.00       388\n",
      "\n",
      "    accuracy                           1.00      2766\n",
      "   macro avg       1.00      1.00      1.00      2766\n",
      "weighted avg       1.00      1.00      1.00      2766\n",
      "\n"
     ]
    },
    {
     "data": {
      "text/html": [
       "<div>\n",
       "<style scoped>\n",
       "    .dataframe tbody tr th:only-of-type {\n",
       "        vertical-align: middle;\n",
       "    }\n",
       "\n",
       "    .dataframe tbody tr th {\n",
       "        vertical-align: top;\n",
       "    }\n",
       "\n",
       "    .dataframe thead th {\n",
       "        text-align: right;\n",
       "    }\n",
       "</style>\n",
       "<table border=\"1\" class=\"dataframe\">\n",
       "  <thead>\n",
       "    <tr style=\"text-align: right;\">\n",
       "      <th></th>\n",
       "      <th>accuracy_score</th>\n",
       "    </tr>\n",
       "  </thead>\n",
       "  <tbody>\n",
       "    <tr>\n",
       "      <th>train</th>\n",
       "      <td>0.998192</td>\n",
       "    </tr>\n",
       "    <tr>\n",
       "      <th>test</th>\n",
       "      <td>0.628585</td>\n",
       "    </tr>\n",
       "  </tbody>\n",
       "</table>\n",
       "</div>"
      ],
      "text/plain": [
       "       accuracy_score\n",
       "train        0.998192\n",
       "test         0.628585"
      ]
     },
     "execution_count": 23,
     "metadata": {},
     "output_type": "execute_result"
    },
    {
     "data": {
      "image/png": "[encoded data removed]",
      "text/plain": [
       "<Figure size 432x288 with 2 Axes>"
      ]
     },
     "metadata": {
      "needs_background": "light"
     },
     "output_type": "display_data"
    }
   ],
   "source": [
    "dt = DecisionTreeClassifier()\n",
    "metric, model, scaler, X_set, y_set = skfshow(dt, X, y, scale=False)\n",
    "metric"
   ]
  },
  {
   "cell_type": "markdown",
   "metadata": {},
   "source": [
    "### Random forest classifier"
   ]
  },
  {
   "cell_type": "code",
   "execution_count": 24,
   "metadata": {},
   "outputs": [
    {
     "name": "stdout",
     "output_type": "stream",
     "text": [
      "              precision    recall  f1-score   support\n",
      "\n",
      "           0       0.90      0.84      0.87        94\n",
      "           1       0.87      0.86      0.86       180\n",
      "           2       0.86      0.75      0.80       198\n",
      "           3       0.85      0.88      0.86       626\n",
      "           4       0.87      0.87      0.87       520\n",
      "           5       0.92      0.81      0.86       179\n",
      "           6       0.85      0.89      0.87       458\n",
      "           7       0.95      0.89      0.92       123\n",
      "           8       0.81      0.84      0.83       388\n",
      "\n",
      "    accuracy                           0.86      2766\n",
      "   macro avg       0.87      0.85      0.86      2766\n",
      "weighted avg       0.86      0.86      0.86      2766\n",
      "\n"
     ]
    },
    {
     "data": {
      "text/html": [
       "<div>\n",
       "<style scoped>\n",
       "    .dataframe tbody tr th:only-of-type {\n",
       "        vertical-align: middle;\n",
       "    }\n",
       "\n",
       "    .dataframe tbody tr th {\n",
       "        vertical-align: top;\n",
       "    }\n",
       "\n",
       "    .dataframe thead th {\n",
       "        text-align: right;\n",
       "    }\n",
       "</style>\n",
       "<table border=\"1\" class=\"dataframe\">\n",
       "  <thead>\n",
       "    <tr style=\"text-align: right;\">\n",
       "      <th></th>\n",
       "      <th>accuracy_score</th>\n",
       "    </tr>\n",
       "  </thead>\n",
       "  <tbody>\n",
       "    <tr>\n",
       "      <th>train</th>\n",
       "      <td>0.998433</td>\n",
       "    </tr>\n",
       "    <tr>\n",
       "      <th>test</th>\n",
       "      <td>0.725958</td>\n",
       "    </tr>\n",
       "  </tbody>\n",
       "</table>\n",
       "</div>"
      ],
      "text/plain": [
       "       accuracy_score\n",
       "train        0.998433\n",
       "test         0.725958"
      ]
     },
     "execution_count": 24,
     "metadata": {},
     "output_type": "execute_result"
    },
    {
     "data": {
      "image/png": "[encoded data removed]",
      "text/plain": [
       "<Figure size 432x288 with 2 Axes>"
      ]
     },
     "metadata": {
      "needs_background": "light"
     },
     "output_type": "display_data"
    }
   ],
   "source": [
    "rf = RandomForestClassifier()\n",
    "metric, model, scaler, X_set, y_set = skfshow(rf, X, y, scale=False)\n",
    "metric"
   ]
  }
 ],
 "metadata": {
  "kernelspec": {
   "display_name": "Python 3",
   "language": "python",
   "name": "python3"
  },
  "language_info": {
   "codemirror_mode": {
    "name": "ipython",
    "version": 3
   },
   "file_extension": ".py",
   "mimetype": "text/x-python",
   "name": "python",
   "nbconvert_exporter": "python",
   "pygments_lexer": "ipython3",
   "version": "3.7.9"
  }
 },
 "nbformat": 4,
 "nbformat_minor": 4
}
